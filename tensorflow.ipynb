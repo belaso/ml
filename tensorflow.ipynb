{
 "cells": [
  {
   "cell_type": "code",
   "execution_count": 1,
   "id": "0aef7ff9-4df9-45ea-9dce-1d8478f2459d",
   "metadata": {},
   "outputs": [
    {
     "name": "stdout",
     "output_type": "stream",
     "text": [
      "Model: \"sequential\"\n",
      "_________________________________________________________________\n",
      " Layer (type)                Output Shape              Param #   \n",
      "=================================================================\n",
      " dense_negative_positive (De  (None, 1)                2         \n",
      " nse)                                                            \n",
      "                                                                 \n",
      "=================================================================\n",
      "Total params: 2\n",
      "Trainable params: 2\n",
      "Non-trainable params: 0\n",
      "_________________________________________________________________\n",
      "None\n"
     ]
    }
   ],
   "source": [
    "import tensorflow as tf\n",
    "from tensorflow.keras.layers import Dense\n",
    "from tensorflow.keras.models import Sequential\n",
    "import numpy as np\n",
    "X = np.array([[-100.],[-10.],[10.],[100.0]])\n",
    "y = np.array([1.,1.,0.,0.])\n",
    "model = Sequential()\n",
    "model.add(Dense(units=1,activation='sigmoid',input_dim=1, name='dense_negative_positive'))\n",
    "model.compile(loss='mean_squared_error')\n",
    "print(model.summary())"
   ]
  },
  {
   "cell_type": "code",
   "execution_count": 2,
   "id": "26188570-9968-40ba-a44d-3fd48ab85d72",
   "metadata": {
    "tags": []
   },
   "outputs": [
    {
     "data": {
      "text/plain": [
       "<keras.callbacks.History at 0x1e597d66f70>"
      ]
     },
     "execution_count": 2,
     "metadata": {},
     "output_type": "execute_result"
    }
   ],
   "source": [
    "model.fit(X,y, epochs=10000, verbose=False)"
   ]
  },
  {
   "cell_type": "code",
   "execution_count": 3,
   "id": "eeea2b3b-f7c4-4400-907f-ee801e8b8c48",
   "metadata": {},
   "outputs": [
    {
     "name": "stdout",
     "output_type": "stream",
     "text": [
      "1/1 [==============================] - 0s 34ms/step\n",
      "[[1.0000000e+00]\n",
      " [9.9999988e-01]\n",
      " [5.6683458e-08]\n",
      " [0.0000000e+00]]\n"
     ]
    }
   ],
   "source": [
    "print(model.predict(X))"
   ]
  },
  {
   "cell_type": "code",
   "execution_count": 4,
   "id": "ed920acf-0953-4d25-a5dc-56ac7c18cb72",
   "metadata": {},
   "outputs": [
    {
     "name": "stdout",
     "output_type": "stream",
     "text": [
      "first layer weights:  [[-1.6685783]]\n",
      "first layer bias:  [5.4990693e-07]\n"
     ]
    }
   ],
   "source": [
    "print(\"first layer weights: \",model.layers[0].get_weights()[0])\n",
    "print(\"first layer bias: \",model.layers[0].get_weights()[1])"
   ]
  },
  {
   "cell_type": "code",
   "execution_count": 7,
   "id": "0542c6cd-1cdf-4adb-923e-e37d3f0e9540",
   "metadata": {},
   "outputs": [
    {
     "data": {
      "text/plain": [
       "0.30273903258977547"
      ]
     },
     "execution_count": 7,
     "metadata": {},
     "output_type": "execute_result"
    }
   ],
   "source": [
    "import math\n",
    "def sigmoid(x):\n",
    "    return 1 / (1 + math.exp(-x))\n",
    "sigmoid(0.5*-1.6685783+5.4990693e-07)"
   ]
  },
  {
   "cell_type": "code",
   "execution_count": 10,
   "id": "c2b8e9c5-d6e6-4630-9eb7-8c4767cd0c56",
   "metadata": {},
   "outputs": [
    {
     "name": "stdout",
     "output_type": "stream",
     "text": [
      "1/1 [==============================] - 0s 16ms/step\n",
      "[[0.5000002]]\n"
     ]
    }
   ],
   "source": [
    "print(model.predict([[.0]]))"
   ]
  },
  {
   "cell_type": "code",
   "execution_count": null,
   "id": "41535ee0-a42e-41dd-a2b2-a46e7ee4fe17",
   "metadata": {},
   "outputs": [],
   "source": []
  }
 ],
 "metadata": {
  "kernelspec": {
   "display_name": "Python 3 (ipykernel)",
   "language": "python",
   "name": "python3"
  },
  "language_info": {
   "codemirror_mode": {
    "name": "ipython",
    "version": 3
   },
   "file_extension": ".py",
   "mimetype": "text/x-python",
   "name": "python",
   "nbconvert_exporter": "python",
   "pygments_lexer": "ipython3",
   "version": "3.9.7"
  }
 },
 "nbformat": 4,
 "nbformat_minor": 5
}
