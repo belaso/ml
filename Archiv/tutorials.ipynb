{
 "cells": [
  {
   "cell_type": "code",
   "execution_count": 92,
   "id": "506ca3da-7230-461b-a9b3-ac21eeab9b17",
   "metadata": {},
   "outputs": [
    {
     "data": {
      "text/plain": [
       "array([[1, 0, 1],\n",
       "       [1, 1, 0]], dtype=int64)"
      ]
     },
     "execution_count": 92,
     "metadata": {},
     "output_type": "execute_result"
    }
   ],
   "source": [
    "# pro Zeile ein Dokument, Wörter sind alphabetisch sortiert\n",
    "from sklearn.feature_extraction.text import CountVectorizer\n",
    "vectorizer = CountVectorizer()\n",
    "corpus = ['Christian Trutz', 'Christian Lindner']\n",
    "X = vectorizer.fit_transform(corpus)\n",
    "X.toarray()"
   ]
  },
  {
   "cell_type": "code",
   "execution_count": 93,
   "id": "0ad45e3e-7da3-40f1-97e5-c9a5238b637f",
   "metadata": {},
   "outputs": [
    {
     "data": {
      "text/plain": [
       "array([[0.57973867, 0.        , 0.81480247],\n",
       "       [0.57973867, 0.81480247, 0.        ]])"
      ]
     },
     "execution_count": 93,
     "metadata": {},
     "output_type": "execute_result"
    }
   ],
   "source": [
    "# to scale down the impact of tokens that occur very frequently\n",
    "from sklearn.feature_extraction.text import TfidfTransformer\n",
    "tfidf_transformer = TfidfTransformer()\n",
    "X_tfid = tfidf_transformer.fit_transform(X)\n",
    "X_tfid.toarray()"
   ]
  },
  {
   "cell_type": "code",
   "execution_count": 89,
   "id": "a99238c8-a43e-4186-9f9d-9aae7f59fdf6",
   "metadata": {},
   "outputs": [
    {
     "data": {
      "text/plain": [
       "MultinomialNB()"
      ]
     },
     "execution_count": 89,
     "metadata": {},
     "output_type": "execute_result"
    }
   ],
   "source": [
    "from sklearn.naive_bayes import MultinomialNB\n",
    "classifier = MultinomialNB()\n",
    "classifier.fit(X_tfid, ['gut', 'schlecht'])"
   ]
  },
  {
   "cell_type": "code",
   "execution_count": 94,
   "id": "c3e58936-d866-4416-8324-f12b24dd76a8",
   "metadata": {},
   "outputs": [
    {
     "data": {
      "text/plain": [
       "Pipeline(steps=[('vect', CountVectorizer()), ('tfidf', TfidfTransformer()),\n",
       "                ('clf', MultinomialNB())])"
      ]
     },
     "execution_count": 94,
     "metadata": {},
     "output_type": "execute_result"
    }
   ],
   "source": [
    "from sklearn.feature_extraction.text import CountVectorizer\n",
    "from sklearn.feature_extraction.text import TfidfTransformer\n",
    "from sklearn.naive_bayes import MultinomialNB\n",
    "from sklearn.pipeline import Pipeline\n",
    "pipeline = Pipeline([('vect', CountVectorizer()), ('tfidf', TfidfTransformer()), ('clf', MultinomialNB())])\n",
    "corpus = ['Christian Trutz', 'Christian Lindner']\n",
    "target = ['nofdp', 'fdp']\n",
    "pipeline.fit(corpus, target)"
   ]
  },
  {
   "cell_type": "code",
   "execution_count": 99,
   "id": "9548adb3-aae9-40a5-9205-1f3594929a46",
   "metadata": {},
   "outputs": [
    {
     "data": {
      "text/plain": [
       "array(['fdp'], dtype='<U5')"
      ]
     },
     "execution_count": 99,
     "metadata": {},
     "output_type": "execute_result"
    }
   ],
   "source": [
    "pipeline.predict(['Christian'])"
   ]
  },
  {
   "cell_type": "markdown",
   "id": "e7eb76c2-21bc-4fd7-94bc-ec6ae566fdd3",
   "metadata": {},
   "source": [
    "# Idee 1\n",
    "\n",
    "- Input Tweet: Selenskji ist gestorben ... (Fake News)\n",
    "- Output: Fake News? Ja / Nein\n",
    "\n",
    "Quelle Twitter"
   ]
  },
  {
   "cell_type": "markdown",
   "id": "652ab8d5-15fd-4677-8cec-cc44ab35768c",
   "metadata": {},
   "source": [
    "# Idee 2\n",
    "\n",
    "- Input Frage zum Thema \"Russland Krieg in der Ukraine\": Ukraine verkauft westliche Waffen den Russen.\"\n",
    "- Output: Liste von gerankten (priorisierten) Artikeln von validen Quellen, die Antworten enthalten.\n",
    "\n",
    "valide?\n",
    "Vorher definierte Liste mit validen Quellen (Twitter Account von bestimmten Leuten, glaubwürdig)\n",
    "\n",
    "Artikel 1 -> l1, l2, l3\n",
    "Artikel 2 -> l1, l2, l3\n",
    "\n",
    "Ideen:\n",
    "- zwei Sprachen englisch, deutsch (Übersetzung durch DeepL)\n",
    "\n",
    "Thema Ukraine:\n",
    "---\n",
    "\n",
    "Valide Quellen:\n",
    "- https://twitter.com/ZelenskyyUa\n",
    "- https://twitter.com/Vitaliy_Klychko\n",
    "- https://twitter.com/Klitschko\n",
    "- https://twitter.com/Bundeskanzler\n",
    "- https://twitter.com/ABaerbock\n",
    "- https://twitter.com/c_lindner\n",
    "- https://twitter.com/derspiegel\n",
    "- \n",
    "\n",
    "\n",
    "Warum Alice Weidel keine valide Quelle?\n",
    "- sie schwärtzt andere an, andere schlecht machen (als einzige politische Aktivität)\n",
    "- keine Politikerin sondern Stimmungsmacherin\n",
    "- Arbeitet mit Fake News\n",
    "\n",
    "## Regel für Validität bestimmen\n",
    "- todo\n",
    "\n",
    "## Wie bestimmen wir die Labels\n",
    "\n",
    "### Beispiel 1:\n",
    "Tweet von Klitschko:\n",
    "\"The Mayors @Vitaliy_Klychko& @TschenPe agreed on the pact for solidarity & future between Kyiv and Hamburg. In cooperation with @hkhamburg, #WeAreAllUkrainians & @HanseaticHelp, Hamburg will send goods to Kyiv. http://Kyiv.Hamburg.de #HamburgKyiv #UkraineHH @TatjanaKiel (1/2)\"\n",
    "\n",
    "Labels:\n",
    "1. \"send goods\" [0.8]\n",
    "2. cooperation [0.6]\n",
    "3.\n",
    "\n",
    "### Beispiel 2:\n",
    "Olaf Scholz\n",
    "\n",
    "\"Ich begrüße das Votum des mazedonischen Parlaments, das den Weg für die ersten Beitrittskonferenzen der Europäischen Union mit Nordmazedonien und Albanien frei macht. Wir wollen, dass Ihr Mitglieder der Europäischen Union werdet und begleiten Euch auf diesem Weg.\"\n",
    "\n",
    "Labels: gar keine, da nicht zum Thema passend\n",
    "\n",
    "### Beispiel 3:\n",
    "Ananlena Baerbock:\n",
    "\n",
    "\"Der 🇺🇦Schriftsteller @serhiy_zhadan weiß wie kaum ein anderer um den Preis von Frieden. Mit seinen Büchern und Texten gibt er den Ukrainerinnen Hoffnung im Kampf um ihr Land, ihre Sprache & Kultur. Herzlichen Glückwunsch an einen herausragenden Künstler zum #Friedenspreis! #fp22\"\n",
    "\n",
    "1. Friedenspreis\n",
    "2. Büchern\n",
    "3. Schriftsteller\n",
    "4. Hoffnung\n",
    "5. Kultur\n",
    "\n",
    "\n",
    "\n"
   ]
  },
  {
   "cell_type": "markdown",
   "id": "dbd67a36-7bd0-4206-9d9e-2330b5df59ed",
   "metadata": {},
   "source": [
    "Ich will überzeugen und brauche valide Informationen/Fakten.\n",
    "\n",
    "1. Was sind valide Informationen?"
   ]
  }
 ],
 "metadata": {
  "kernelspec": {
   "display_name": "Python 3 (ipykernel)",
   "language": "python",
   "name": "python3"
  },
  "language_info": {
   "codemirror_mode": {
    "name": "ipython",
    "version": 3
   },
   "file_extension": ".py",
   "mimetype": "text/x-python",
   "name": "python",
   "nbconvert_exporter": "python",
   "pygments_lexer": "ipython3",
   "version": "3.9.7"
  }
 },
 "nbformat": 4,
 "nbformat_minor": 5
}
